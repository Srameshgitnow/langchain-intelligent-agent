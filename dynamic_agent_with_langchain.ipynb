{
 "cells": [
  {
   "cell_type": "code",
   "execution_count": null,
   "id": "a401b4a2",
   "metadata": {
    "vscode": {
     "languageId": "plaintext"
    }
   },
   "outputs": [],
   "source": [
    "import operator\n",
    "from langchain_core.runnables import RunnableBranch, RunnableLambda\n",
    "from langchain_openai import ChatOpenAI\n",
    "from langchain.agents import initialize_agent, AgentType\n",
    "from langchain.tools import Tool\n",
    "import re\n",
    "import getpass\n",
    "import os\n",
    "from dotenv import load_dotenv\n",
    "load_dotenv()\n",
    "\n",
    "# Define LLM\n",
    "if not os.environ.get(\"OPENAI_API_KEY\"):\n",
    "    os.environ[\"OPENAI_API_KEY\"] = getpass.getpass(\"Enter your OpenAI API key: \")\n",
    "# Initialize OpenAI LLM\n",
    "llm = ChatOpenAI(model=\"gpt-4o-mini\", temperature=0.7, openai_api_key=os.environ[\"OPENAI_API_KEY\"])\n",
    "\n",
    "def safe_eval(expression: str) -> str:\n",
    "    try:\n",
    "        # Remove any non-math characters for safety\n",
    "        expression = re.sub(r\"[^0-9+\\-*/().]\", \"\", expression)\n",
    "        return str(eval(expression, {\"__builtins__\": {}}, {\"add\": operator.add, \"sub\": operator.sub}))\n",
    "    except Exception as e:\n",
    "        return f\"Error: {e}\"\n",
    "\n",
    "calculator_tool = Tool(\n",
    "    name=\"Calculator\",\n",
    "    func=safe_eval,  # Uses the safe evaluation function\n",
    "    description=\"Performs basic arithmetic calculations (e.g., '5 + 10').\"\n",
    ")\n",
    "\n",
    "def decide_tool(input_text):\n",
    "    return \"calc\" if re.search(r\"\\d+\\s*[\\+\\-\\*/]\\s*\\d+\", input_text) else \"llm\"\n",
    "\n",
    "math_chain = RunnableLambda(lambda x: x) | calculator_tool\n",
    "\n",
    "text_chain = llm\n",
    "\n",
    "branch = RunnableBranch(\n",
    "    (lambda x: decide_tool(x) == \"calc\", math_chain),\n",
    "    (lambda x: decide_tool(x) == \"llm\", text_chain),\n",
    "    text_chain  # Default to LLM if no match\n",
    ")\n",
    "\n",
    "def agent_executor(user_input):\n",
    "    return branch.invoke(user_input)\n",
    "\n",
    "print(agent_executor(\"What is the difference between AI Agents and Agentic AI?\"))  # Uses LLM\n",
    "print(agent_executor(\"5373 + 138380 + 383838\"))              # Uses Calculator"
   ]
  }
 ],
 "metadata": {
  "language_info": {
   "name": "python"
  }
 },
 "nbformat": 4,
 "nbformat_minor": 5
}
